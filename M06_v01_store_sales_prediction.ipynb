{
 "cells": [
  {
   "cell_type": "markdown",
   "metadata": {
    "ExecuteTime": {
     "end_time": "2020-04-16T22:14:09.252171Z",
     "start_time": "2020-04-16T22:14:09.246865Z"
    },
    "heading_collapsed": true
   },
   "source": [
    "# 0.0. Imports "
   ]
  },
  {
   "cell_type": "code",
   "execution_count": 1,
   "metadata": {
    "ExecuteTime": {
     "end_time": "2020-05-03T06:07:23.554804Z",
     "start_time": "2020-05-03T06:07:20.632412Z"
    },
    "hidden": true
   },
   "outputs": [
    {
     "ename": "ModuleNotFoundError",
     "evalue": "No module named 'inflection'",
     "output_type": "error",
     "traceback": [
      "\u001b[1;31m---------------------------------------------------------------------------\u001b[0m",
      "\u001b[1;31mModuleNotFoundError\u001b[0m                       Traceback (most recent call last)",
      "\u001b[1;32m<ipython-input-1-1249b40b5ff5>\u001b[0m in \u001b[0;36m<module>\u001b[1;34m\u001b[0m\n\u001b[0;32m      2\u001b[0m \u001b[1;32mimport\u001b[0m \u001b[0mnumpy\u001b[0m                       \u001b[1;32mas\u001b[0m \u001b[0mnp\u001b[0m\u001b[1;33m\u001b[0m\u001b[1;33m\u001b[0m\u001b[0m\n\u001b[0;32m      3\u001b[0m \u001b[1;32mimport\u001b[0m \u001b[0mseaborn\u001b[0m                     \u001b[1;32mas\u001b[0m \u001b[0msns\u001b[0m\u001b[1;33m\u001b[0m\u001b[1;33m\u001b[0m\u001b[0m\n\u001b[1;32m----> 4\u001b[1;33m \u001b[1;32mimport\u001b[0m \u001b[0minflection\u001b[0m\u001b[1;33m\u001b[0m\u001b[1;33m\u001b[0m\u001b[0m\n\u001b[0m\u001b[0;32m      5\u001b[0m \u001b[1;32mimport\u001b[0m \u001b[0mmath\u001b[0m\u001b[1;33m\u001b[0m\u001b[1;33m\u001b[0m\u001b[0m\n\u001b[0;32m      6\u001b[0m \u001b[1;32mimport\u001b[0m \u001b[0mdatetime\u001b[0m\u001b[1;33m\u001b[0m\u001b[1;33m\u001b[0m\u001b[0m\n",
      "\u001b[1;31mModuleNotFoundError\u001b[0m: No module named 'inflection'"
     ]
    }
   ],
   "source": [
    "import pandas                      as pd\n",
    "import numpy                       as np\n",
    "import seaborn                     as sns\n",
    "import inflection\n",
    "import math\n",
    "import datetime\n",
    "\n",
    "from boruta                        import BorutaPy\n",
    "from sklearn.ensemble              import RandomForestRegressor\n",
    "from sklearn.linear_model          import LinearRegression, Lasso\n",
    "from sklearn.preprocessing         import RobustScaler, MinMaxScaler, LabelEncoder\n",
    "from scipy.stats                   import chi2_contingency\n",
    "from scipy                         import stats  as ss\n",
    "from matplotlib                    import pyplot as plt\n",
    "from IPython.display               import Image\n",
    "from matplotlib                    import gridspec\n",
    "from IPython.core.display          import HTML\n",
    "from IPython.core.interactiveshell import InteractiveShell\n",
    "\n",
    "InteractiveShell.ast_node_interactivity = \"all\""
   ]
  },
  {
   "cell_type": "markdown",
   "metadata": {
    "ExecuteTime": {
     "end_time": "2020-04-16T22:15:23.532736Z",
     "start_time": "2020-04-16T22:15:23.527489Z"
    },
    "hidden": true
   },
   "source": [
    "## 0.1. Helper Functions"
   ]
  },
  {
   "cell_type": "code",
   "execution_count": null,
   "metadata": {
    "ExecuteTime": {
     "end_time": "2020-05-03T06:07:23.585272Z",
     "start_time": "2020-05-03T06:07:23.557762Z"
    },
    "hidden": true
   },
   "outputs": [],
   "source": [
    "def cramer_v(x,y):\n",
    "    cm = pd.crosstab(x, y).values\n",
    "    n = cm.sum()\n",
    "    r, k = cm.shape\n",
    "    chi2 = chi2_contingency (cm )[0]\n",
    "    \n",
    "    chi2corr = max(0, chi2 - (k-1)*(r-1)/(n-1))\n",
    "    \n",
    "    kcorr = k - (k-1)**2/(n-1)\n",
    "    \n",
    "    rcorr = r - (r-1)**2/(n-1)\n",
    "    \n",
    "    return np.sqrt( (chi2corr/n) / (min(kcorr-1, rcorr-1 )))\n",
    "   \n",
    "\n",
    "\n",
    "def jupyter_settings():\n",
    "    %matplotlib inline\n",
    "    %pylab inline\n",
    "    \n",
    "    plt.style.use( 'bmh' )\n",
    "    plt.rcParams['figure.figsize'] = [35, 12]\n",
    "    plt.rcParams['font.size'] = 24\n",
    "    \n",
    "    display( HTML( '<style>.container { width:100% !important; }</style>') )\n",
    "    pd.options.display.max_columns = None\n",
    "    pd.options.display.max_rows = None\n",
    "    pd.set_option( 'display.expand_frame_repr', False )\n",
    "    \n",
    "    sns.set()"
   ]
  },
  {
   "cell_type": "code",
   "execution_count": null,
   "metadata": {
    "ExecuteTime": {
     "end_time": "2020-05-03T06:07:23.612588Z",
     "start_time": "2020-05-03T06:07:23.591021Z"
    },
    "hidden": true
   },
   "outputs": [],
   "source": [
    "jupyter_settings()"
   ]
  },
  {
   "cell_type": "markdown",
   "metadata": {
    "heading_collapsed": true,
    "hidden": true
   },
   "source": [
    "## 0.2. Loading data"
   ]
  },
  {
   "cell_type": "code",
   "execution_count": null,
   "metadata": {
    "ExecuteTime": {
     "end_time": "2020-05-03T06:07:25.154654Z",
     "start_time": "2020-05-03T06:07:23.616055Z"
    },
    "hidden": true
   },
   "outputs": [],
   "source": [
    "df_sales_raw = pd.read_csv( 'dataset/train.csv', low_memory=False )\n",
    "df_store_raw = pd.read_csv( 'dataset/store.csv', low_memory=False )\n",
    "\n",
    "# merge\n",
    "\n",
    "df_raw = pd.merge( df_sales_raw, df_store_raw, how = 'left', on= 'Store' )"
   ]
  },
  {
   "cell_type": "markdown",
   "metadata": {
    "ExecuteTime": {
     "end_time": "2020-04-16T22:18:03.245559Z",
     "start_time": "2020-04-16T22:18:03.238161Z"
    },
    "heading_collapsed": true
   },
   "source": [
    "# 1.0 DESCRIBE DATA - Passo 01"
   ]
  },
  {
   "cell_type": "code",
   "execution_count": null,
   "metadata": {
    "ExecuteTime": {
     "end_time": "2020-05-03T06:07:25.393088Z",
     "start_time": "2020-05-03T06:07:25.156710Z"
    },
    "hidden": true
   },
   "outputs": [],
   "source": [
    "df1 = df_raw.copy()"
   ]
  },
  {
   "cell_type": "markdown",
   "metadata": {
    "ExecuteTime": {
     "end_time": "2020-04-16T22:25:10.486241Z",
     "start_time": "2020-04-16T22:25:10.148273Z"
    },
    "heading_collapsed": true,
    "hidden": true
   },
   "source": [
    "## 1.1 Rename Columns"
   ]
  },
  {
   "cell_type": "code",
   "execution_count": null,
   "metadata": {
    "ExecuteTime": {
     "end_time": "2020-05-03T06:07:25.413822Z",
     "start_time": "2020-05-03T06:07:25.400574Z"
    },
    "hidden": true
   },
   "outputs": [],
   "source": [
    "cols_old = ['Store', 'DayOfWeek', 'Date', 'Sales', 'Customers', 'Open', 'Promo',\n",
    "       'StateHoliday', 'SchoolHoliday', 'StoreType', 'Assortment',\n",
    "       'CompetitionDistance', 'CompetitionOpenSinceMonth','CompetitionOpenSinceYear',\n",
    "       'Promo2', 'Promo2SinceWeek','Promo2SinceYear', 'PromoInterval']\n",
    "\n",
    "snakecase = lambda x: inflection.underscore ( x )\n",
    "\n",
    "cols_new = list( map( snakecase, cols_old ) )\n",
    "\n",
    "#rename \n",
    "df1.columns = cols_new"
   ]
  },
  {
   "cell_type": "markdown",
   "metadata": {
    "ExecuteTime": {
     "end_time": "2020-04-16T22:54:18.613014Z",
     "start_time": "2020-04-16T22:54:18.605146Z"
    },
    "heading_collapsed": true,
    "hidden": true
   },
   "source": [
    "## 1.2. Data Dimension"
   ]
  },
  {
   "cell_type": "code",
   "execution_count": null,
   "metadata": {
    "ExecuteTime": {
     "end_time": "2020-05-03T06:07:25.428953Z",
     "start_time": "2020-05-03T06:07:25.416576Z"
    },
    "hidden": true
   },
   "outputs": [],
   "source": [
    "print( 'Number of rows: {}'.format( df1.shape[0] ) )\n",
    "print( 'Number of rows: {}'.format( df1.shape[1] ) )"
   ]
  },
  {
   "cell_type": "markdown",
   "metadata": {
    "heading_collapsed": true,
    "hidden": true
   },
   "source": [
    "## 1.3. Data types"
   ]
  },
  {
   "cell_type": "code",
   "execution_count": null,
   "metadata": {
    "ExecuteTime": {
     "end_time": "2020-05-03T06:07:25.780137Z",
     "start_time": "2020-05-03T06:07:25.433936Z"
    },
    "hidden": true
   },
   "outputs": [],
   "source": [
    "df1['date'] = pd.to_datetime( df1['date'] )\n",
    "df1.dtypes"
   ]
  },
  {
   "cell_type": "markdown",
   "metadata": {
    "heading_collapsed": true,
    "hidden": true
   },
   "source": [
    "## 1.4 Number of NA "
   ]
  },
  {
   "cell_type": "code",
   "execution_count": null,
   "metadata": {
    "ExecuteTime": {
     "end_time": "2020-05-03T06:07:26.284015Z",
     "start_time": "2020-05-03T06:07:25.782851Z"
    },
    "hidden": true
   },
   "outputs": [],
   "source": [
    "df1.isna().sum()"
   ]
  },
  {
   "cell_type": "markdown",
   "metadata": {
    "heading_collapsed": true,
    "hidden": true
   },
   "source": [
    "## 1.5. Fillout NA"
   ]
  },
  {
   "cell_type": "code",
   "execution_count": null,
   "metadata": {
    "ExecuteTime": {
     "end_time": "2020-05-03T06:12:53.130658Z",
     "start_time": "2020-05-03T06:07:26.286094Z"
    },
    "hidden": true
   },
   "outputs": [],
   "source": [
    "#promo_since_week\n",
    "df1['promo2_since_week'] = df1.apply(lambda x: x['date'].week if math.isnan( x['promo2_since_week'] ) else x['promo2_since_week'], axis=1 )\n",
    "\n",
    "#promo2_since_year\n",
    "df1['promo2_since_year'] = df1.apply(lambda x: x['date'].year if math.isnan( x['promo2_since_year'] ) else x['promo2_since_year'], axis=1 )\n",
    "\n",
    "#competition_distance\n",
    "df1['competition_distance'] = df1['competition_distance'].apply( lambda x: 200000.0 if math.isnan(x) else x )\n",
    "\n",
    "\n",
    "#competition_open_since_month\n",
    "df1['competition_open_since_month'] = df1.apply( lambda x: x['date'].month if math.isnan( x['competition_open_since_month'] ) else x['competition_open_since_month'], axis=1 )\n",
    "\n",
    "\n",
    "#competition_open_since_year\n",
    "df1['competition_open_since_year'] = df1.apply(lambda x: x['date'].year if math.isnan( x['competition_open_since_year'] ) else x['competition_open_since_year'], axis=1 )\n",
    "\n",
    "#promo_interval\n",
    "month_map = {1: 'Jan', 2: 'Fev', 3: 'Mar', 4: 'Apr', 5: 'May', 6: 'Jun', 7: 'Jul', 8: 'Aug', 9: 'Sep', 10: 'Oct', 11: 'Nov', 12: 'Dec' }\n",
    "\n",
    "df1['promo_interval'].fillna(0, inplace=True)\n",
    "\n",
    "df1['month_map'] = df1['date'].dt.month.map( month_map )\n",
    "\n",
    "df1['is_promo'] = df1[['promo_interval', 'month_map' ]].apply( lambda x: 0 if x['promo_interval'] == 0 else 1 if x['month_map'] in x['promo_interval'].split(',') else 0, axis=1 )"
   ]
  },
  {
   "cell_type": "code",
   "execution_count": null,
   "metadata": {
    "ExecuteTime": {
     "end_time": "2020-05-03T06:12:53.269707Z",
     "start_time": "2020-05-03T06:12:53.133121Z"
    },
    "hidden": true
   },
   "outputs": [],
   "source": [
    "df1.sample(5).T"
   ]
  },
  {
   "cell_type": "code",
   "execution_count": null,
   "metadata": {
    "ExecuteTime": {
     "end_time": "2020-05-03T06:12:54.057217Z",
     "start_time": "2020-05-03T06:12:53.272755Z"
    },
    "hidden": true
   },
   "outputs": [],
   "source": [
    "df1.isna().sum()"
   ]
  },
  {
   "cell_type": "markdown",
   "metadata": {
    "heading_collapsed": true,
    "hidden": true
   },
   "source": [
    "## 1.6. Change columns Data types"
   ]
  },
  {
   "cell_type": "code",
   "execution_count": null,
   "metadata": {
    "ExecuteTime": {
     "end_time": "2020-05-03T06:12:54.107194Z",
     "start_time": "2020-05-03T06:12:54.059675Z"
    },
    "hidden": true
   },
   "outputs": [],
   "source": [
    "# change competition date\n",
    "df1['competition_open_since_year'] = df1['competition_open_since_year'].astype( int )\n",
    "df1['competition_open_since_month'] = df1['competition_open_since_month'].astype( int )\n",
    "\n",
    "# change promo date\n",
    "df1['promo2_since_year'] = df1['promo2_since_year'].astype( int )\n",
    "df1['promo2_since_week'] = df1['promo2_since_week'].astype( int )"
   ]
  },
  {
   "cell_type": "code",
   "execution_count": null,
   "metadata": {
    "ExecuteTime": {
     "end_time": "2020-05-03T06:12:54.120466Z",
     "start_time": "2020-05-03T06:12:54.111109Z"
    },
    "hidden": true
   },
   "outputs": [],
   "source": [
    "df1.dtypes"
   ]
  },
  {
   "cell_type": "markdown",
   "metadata": {
    "heading_collapsed": true,
    "hidden": true
   },
   "source": [
    "## 1.7 Descriptive statistics"
   ]
  },
  {
   "cell_type": "code",
   "execution_count": null,
   "metadata": {
    "ExecuteTime": {
     "end_time": "2020-05-03T06:12:54.293306Z",
     "start_time": "2020-05-03T06:12:54.122741Z"
    },
    "hidden": true
   },
   "outputs": [],
   "source": [
    "# split numerical and categorical features\n",
    "num_attributes = df1.select_dtypes( include=['int64', 'float64'] )\n",
    "cat_attributes = df1.select_dtypes( exclude=['int64', 'float64', 'datetime64[ns]'] )\n",
    "dat_attributes = df1.select_dtypes( include=['datetime64[ns]'] )\n",
    "\n",
    "print( 'Num of Numerical: {}'.format( num_attributes.shape[1] ) )\n",
    "print( 'Num of Categorical: {}'.format( cat_attributes.shape[1] ) )\n",
    "print( 'Num of Date: {}'.format( dat_attributes.shape[1] ) )"
   ]
  },
  {
   "cell_type": "markdown",
   "metadata": {
    "hidden": true
   },
   "source": [
    "### 1.7.1. Central Tendency and Dispersion"
   ]
  },
  {
   "cell_type": "code",
   "execution_count": null,
   "metadata": {
    "ExecuteTime": {
     "end_time": "2020-05-03T06:13:04.762104Z",
     "start_time": "2020-05-03T06:12:54.295805Z"
    },
    "hidden": true
   },
   "outputs": [],
   "source": [
    "# measure of Central Tendency\n",
    "ct1 = pd.DataFrame( num_attributes.apply( mean ) ).T\n",
    "ct2 = pd.DataFrame( num_attributes.apply( median ) ).T\n",
    "\n",
    "# dispersion\n",
    "d1 = pd.DataFrame( num_attributes.apply( std ) ).T\n",
    "d2 = pd.DataFrame( num_attributes.apply( min ) ).T\n",
    "d3 = pd.DataFrame( num_attributes.apply( max ) ).T\n",
    "d4 = pd.DataFrame( num_attributes.apply( lambda x: x.max() - x.min() ) ).T\n",
    "d5 = pd.DataFrame( num_attributes.apply( lambda x: x.kurtosis() ) ).T\n",
    "d6 = pd.DataFrame( num_attributes.apply( lambda x: x.skew() ) ).T\n",
    "\n",
    "m = pd.concat( [d2, d3, d4, ct1, ct2, d1, d5, d6] ).T.reset_index()\n",
    "m.columns = ['attributes', 'min', 'max', 'range', 'mean', 'median', 'standard_deviation', 'kurtosis', 'skew']\n",
    "\n",
    "m"
   ]
  },
  {
   "cell_type": "markdown",
   "metadata": {
    "hidden": true
   },
   "source": [
    "### 1.7.2. Categorical Attributes"
   ]
  },
  {
   "cell_type": "code",
   "execution_count": null,
   "metadata": {
    "ExecuteTime": {
     "end_time": "2020-05-03T06:13:05.288409Z",
     "start_time": "2020-05-03T06:13:04.764546Z"
    },
    "hidden": true
   },
   "outputs": [],
   "source": [
    "c = pd.DataFrame( cat_attributes.apply( lambda x: x.unique().shape[0], axis=0 ).reset_index() )\n",
    "c.columns = ['Columns Names', 'Number of Levels']\n",
    "c"
   ]
  },
  {
   "cell_type": "code",
   "execution_count": null,
   "metadata": {
    "ExecuteTime": {
     "end_time": "2020-05-03T06:14:23.077508Z",
     "start_time": "2020-05-03T06:13:05.290865Z"
    },
    "hidden": true
   },
   "outputs": [],
   "source": [
    "plt.subplot( 1, 3, 1 )\n",
    "sns.boxplot( x='state_holiday', y='sales', data=df1 );\n",
    "\n",
    "plt.subplot( 1, 3, 2 )\n",
    "sns.boxplot( x='store_type', y='sales', data=df1 );\n",
    "\n",
    "plt.subplot( 1, 3, 3 )\n",
    "sns.boxplot( x='assortment', y='sales', data=df1 );"
   ]
  },
  {
   "cell_type": "markdown",
   "metadata": {
    "heading_collapsed": true,
    "hidden": true
   },
   "source": [
    "## 1.8 Resumo"
   ]
  },
  {
   "cell_type": "code",
   "execution_count": null,
   "metadata": {
    "ExecuteTime": {
     "end_time": "2020-05-03T06:14:23.136160Z",
     "start_time": "2020-05-03T06:14:23.080025Z"
    },
    "hidden": true
   },
   "outputs": [],
   "source": [
    "print( 'Number of Rows: {}'.format( df1.shape[0] ) )\n",
    "print( 'Number of Cols: {}\\n'.format( df1.shape[1] ) )\n",
    "print( 'Num of Numerical: {}'.format( num_attributes.shape[1] ) )\n",
    "print( 'Num of Categorical: {}'.format( cat_attributes.shape[1] ) )\n",
    "print( 'Num of Date: {}\\n'.format( dat_attributes.shape[1] ) )\n",
    "m\n",
    "c"
   ]
  },
  {
   "cell_type": "markdown",
   "metadata": {
    "heading_collapsed": true
   },
   "source": [
    "# 2.0. Feature Engineering - PASSO 02"
   ]
  },
  {
   "cell_type": "code",
   "execution_count": null,
   "metadata": {
    "ExecuteTime": {
     "end_time": "2020-05-03T06:14:23.190731Z",
     "start_time": "2020-05-03T06:14:23.141257Z"
    },
    "hidden": true
   },
   "outputs": [],
   "source": [
    "Image('img/MindMapHipothesis.png')"
   ]
  },
  {
   "cell_type": "markdown",
   "metadata": {
    "ExecuteTime": {
     "end_time": "2020-04-22T21:14:34.734051Z",
     "start_time": "2020-04-22T21:14:34.719074Z"
    },
    "heading_collapsed": true,
    "hidden": true
   },
   "source": [
    "## 2.1. Criacao das Hipoteses"
   ]
  },
  {
   "cell_type": "code",
   "execution_count": null,
   "metadata": {
    "ExecuteTime": {
     "end_time": "2020-05-03T06:14:23.278733Z",
     "start_time": "2020-05-03T06:14:23.193967Z"
    },
    "hidden": true
   },
   "outputs": [],
   "source": [
    "df2 = df1.copy()"
   ]
  },
  {
   "cell_type": "markdown",
   "metadata": {
    "heading_collapsed": true,
    "hidden": true
   },
   "source": [
    "### 2.1.1. Hipoteses Loja"
   ]
  },
  {
   "cell_type": "markdown",
   "metadata": {
    "hidden": true
   },
   "source": [
    "**1.** Lojas com maior quadro de funcionarios deveriam vender mais.\n",
    "\n",
    "**2.** Lojas com maior estoque deveriam vender mais.\n",
    "\n",
    "**3.** Lojas com maior porte deveriam vender mais.\n",
    "\n",
    "**4.** Lojas com menor porte deveriam vender menos.\n",
    "\n",
    "**5.** Lojas com maior sortimento deveriam vender mais."
   ]
  },
  {
   "cell_type": "markdown",
   "metadata": {
    "heading_collapsed": true,
    "hidden": true
   },
   "source": [
    "### 2.1.2. Hipoteses Produto"
   ]
  },
  {
   "cell_type": "markdown",
   "metadata": {
    "hidden": true
   },
   "source": [
    "**1.** Lojas que investem mais em Marketing deveriam vender mais.\n",
    "\n",
    "**2.** Lojas que expoer mais os produtos nas vitrines deveriam vender mais.\n",
    "\n",
    "**3.** Lojas que tem precos menores nos produtos deveriam vender mais.\n",
    "\n",
    "**4.** Lojas que tem precos menores por mais tempo nos produtos deveriam vender mais.\n",
    "\n",
    "**5.** Lojas que tem uma quantidade de estoque maior deveriam vender mais"
   ]
  },
  {
   "cell_type": "markdown",
   "metadata": {
    "heading_collapsed": true,
    "hidden": true
   },
   "source": [
    "### 2.1.3. Hipoteses Tempo"
   ]
  },
  {
   "cell_type": "markdown",
   "metadata": {
    "hidden": true
   },
   "source": [
    "**1.** Lojas que tem mais feriados elas deveriam vender menos.\n",
    "\n",
    "**2.** Lojas que abrem nos primeiro 6 meses deveriam vender mais.\n",
    "\n",
    "**3.** Lojas que abrem nos finais de semanas deveriam vender mais.\n",
    "\n",
    "**4.** Lojas que saldao mais frequentes deveriam vender mais.\n",
    "\n",
    "**5.** Lojas que ficam abertas por maior periodo de horas deveriam vender mais."
   ]
  },
  {
   "cell_type": "markdown",
   "metadata": {
    "heading_collapsed": true,
    "hidden": true
   },
   "source": [
    "## 2.2 Lista final de Hipoteses"
   ]
  },
  {
   "cell_type": "markdown",
   "metadata": {
    "ExecuteTime": {
     "end_time": "2020-04-22T21:49:08.034395Z",
     "start_time": "2020-04-22T21:49:07.978814Z"
    },
    "hidden": true
   },
   "source": [
    "**1.** Lojas com maior sortimento deveriam vender mais.\n",
    "\n",
    "**2.** Lojas com maior porte deveriam vender mais.\n",
    "\n",
    "**3.** Lojas com menor porte deveriam vender menos.\n",
    "\n",
    "**4.** Lojas com promocoes ativas por mais tempo deveriam vender mais.\n",
    "\n",
    "**5.** Lojas com mais promocoes consecutivas deveriam vender mais.\n",
    "\n",
    "**6.** Lojas com mais dias de promocao deveriam vender mais.\n",
    "\n",
    "**7.** Lojas com abertas durante o feriado de natal deveriam vender mais.\n",
    "\n",
    "**8.** Lojas deveriam vender mais ao longo dos anos.\n",
    "\n",
    "**9.** Lojas deveriam vender mais no segundo semestre do ano\n",
    "\n",
    "**10.** Lojas deveriam vender mais depois do dia 10 de cada mes.\n",
    "\n",
    "**11.** Lojas deveriam menos aos finais de semana.\n",
    "\n",
    "**12.** Lojas deveriam vender menos durante os feriados escolares.\n",
    "\n",
    "**13.** Lojas com competidores mais proximos deveriam vende menos."
   ]
  },
  {
   "cell_type": "markdown",
   "metadata": {
    "heading_collapsed": true,
    "hidden": true
   },
   "source": [
    "## 2.3. Feature Engineering"
   ]
  },
  {
   "cell_type": "code",
   "execution_count": null,
   "metadata": {
    "ExecuteTime": {
     "end_time": "2020-05-03T06:17:23.662036Z",
     "start_time": "2020-05-03T06:14:23.281769Z"
    },
    "hidden": true
   },
   "outputs": [],
   "source": [
    "# year\n",
    "df2['year'] = df2['date'].dt.year\n",
    "\n",
    "# month\n",
    "df2['month'] = df2['date'].dt.month\n",
    "\n",
    "# day\n",
    "df2['day'] = df2['date'].dt.day\n",
    "\n",
    "# week of year\n",
    "df2['week_of_year'] = df2['date'].dt.weekofyear\n",
    "\n",
    "# year week\n",
    "df2['year_week'] = df2['date'].dt.strftime( '%Y-%W' )\n",
    "\n",
    "# state_holiday\n",
    "df2['state_holiday'] = df2['state_holiday'].apply( lambda x: 'public_holiday' if x == 'a' else 'easter_holiday' if x == 'b' else 'christmas' if x == 'c' else 'regular_day' )\n",
    "\n",
    "# assortment\n",
    "df2['assortment'] = df2['assortment'].apply( lambda x: 'basic' if x == 'a' else 'extra' if x == 'b' else 'extended' )\n",
    "\n",
    "# competition\n",
    "df2['competition_since'] = df2.apply( lambda x: datetime.datetime( year=x['competition_open_since_year'], month=x['competition_open_since_month'], day=1 ), axis=1 )\n",
    "df2['competition_time_month'] = ( ( df2['date'] - df2['competition_since'] ) / 30 ).apply( lambda x: x.days ).astype( int ) \n",
    "\n",
    "# promotion\n",
    "df2['promotion_since'] = df2['promo2_since_year'].astype( str ) + '-' + df2['promo2_since_week'].astype( str )\n",
    "df2['promotion_since'] = df2['promotion_since'].apply( lambda x: datetime.datetime.strptime( x + '-1', '%Y-%W-%w' ) - datetime.timedelta( days=7 ) )\n",
    "df2['promotion_time_week'] = ( ( df2['date'] - df2['promotion_since'] ) / 7 ).apply( lambda x: x.days ).astype( int )"
   ]
  },
  {
   "cell_type": "code",
   "execution_count": null,
   "metadata": {
    "ExecuteTime": {
     "end_time": "2020-05-03T06:17:23.702492Z",
     "start_time": "2020-05-03T06:17:23.669952Z"
    },
    "hidden": true,
    "scrolled": true
   },
   "outputs": [],
   "source": [
    "df2.head().T"
   ]
  },
  {
   "cell_type": "markdown",
   "metadata": {
    "heading_collapsed": true
   },
   "source": [
    "# 3.0. Filtragem de variaveis - Video 03"
   ]
  },
  {
   "cell_type": "code",
   "execution_count": null,
   "metadata": {
    "ExecuteTime": {
     "end_time": "2020-05-03T06:17:24.007448Z",
     "start_time": "2020-05-03T06:17:23.709176Z"
    },
    "hidden": true
   },
   "outputs": [],
   "source": [
    "df3 = df2.copy()"
   ]
  },
  {
   "cell_type": "markdown",
   "metadata": {
    "heading_collapsed": true,
    "hidden": true
   },
   "source": [
    "## 3.1. Filtragem das linhas"
   ]
  },
  {
   "cell_type": "code",
   "execution_count": null,
   "metadata": {
    "ExecuteTime": {
     "end_time": "2020-05-03T06:17:24.208682Z",
     "start_time": "2020-05-03T06:17:24.009970Z"
    },
    "hidden": true
   },
   "outputs": [],
   "source": [
    "df3 = df3[(df3['open'] != 0) & (df3['sales'] > 0)]"
   ]
  },
  {
   "cell_type": "markdown",
   "metadata": {
    "heading_collapsed": true,
    "hidden": true
   },
   "source": [
    "## 3.1. Selecao das linhas"
   ]
  },
  {
   "cell_type": "code",
   "execution_count": null,
   "metadata": {
    "ExecuteTime": {
     "end_time": "2020-05-03T06:17:24.340724Z",
     "start_time": "2020-05-03T06:17:24.214643Z"
    },
    "hidden": true
   },
   "outputs": [],
   "source": [
    "cols_drop = ['customers', 'open', 'promo_interval', 'month_map']\n",
    "df3 = df3.drop( cols_drop, axis = 1 )"
   ]
  },
  {
   "cell_type": "code",
   "execution_count": null,
   "metadata": {
    "ExecuteTime": {
     "end_time": "2020-05-03T06:17:24.355140Z",
     "start_time": "2020-05-03T06:17:24.343610Z"
    },
    "hidden": true
   },
   "outputs": [],
   "source": [
    "df3.columns"
   ]
  },
  {
   "cell_type": "code",
   "execution_count": null,
   "metadata": {
    "ExecuteTime": {
     "end_time": "2020-05-03T06:17:24.470061Z",
     "start_time": "2020-05-03T06:17:24.357720Z"
    },
    "hidden": true
   },
   "outputs": [],
   "source": [
    "df4 = df3.copy()"
   ]
  },
  {
   "cell_type": "markdown",
   "metadata": {
    "heading_collapsed": true
   },
   "source": [
    "# 4.0 Analise Exploratoria de dados - EDA "
   ]
  },
  {
   "cell_type": "markdown",
   "metadata": {
    "heading_collapsed": true,
    "hidden": true
   },
   "source": [
    "## 4.1 Analise univariada"
   ]
  },
  {
   "cell_type": "markdown",
   "metadata": {
    "heading_collapsed": true,
    "hidden": true
   },
   "source": [
    "### 4.1.1. Response Variable"
   ]
  },
  {
   "cell_type": "code",
   "execution_count": null,
   "metadata": {
    "ExecuteTime": {
     "end_time": "2020-05-03T06:17:30.828724Z",
     "start_time": "2020-05-03T06:17:24.472875Z"
    },
    "hidden": true,
    "hide_input": false,
    "scrolled": false
   },
   "outputs": [],
   "source": [
    "sns.distplot(df4['sales'])"
   ]
  },
  {
   "cell_type": "markdown",
   "metadata": {
    "heading_collapsed": true,
    "hidden": true
   },
   "source": [
    "### 4.1.2. Numercial Variable"
   ]
  },
  {
   "cell_type": "code",
   "execution_count": null,
   "metadata": {
    "ExecuteTime": {
     "end_time": "2020-05-03T06:17:37.577798Z",
     "start_time": "2020-05-03T06:17:30.831488Z"
    },
    "hidden": true,
    "hide_input": false,
    "scrolled": false
   },
   "outputs": [],
   "source": [
    "num_attributes.hist( bins=25 );"
   ]
  },
  {
   "cell_type": "markdown",
   "metadata": {
    "heading_collapsed": true,
    "hidden": true
   },
   "source": [
    "### 4.1.3. Categorical Variable"
   ]
  },
  {
   "cell_type": "code",
   "execution_count": null,
   "metadata": {
    "ExecuteTime": {
     "end_time": "2020-05-03T06:17:37.650045Z",
     "start_time": "2020-05-03T06:17:37.586130Z"
    },
    "hidden": true,
    "scrolled": true
   },
   "outputs": [],
   "source": [
    "df4['state_holiday'].drop_duplicates()"
   ]
  },
  {
   "cell_type": "code",
   "execution_count": null,
   "metadata": {
    "ExecuteTime": {
     "end_time": "2020-05-03T06:18:37.595041Z",
     "start_time": "2020-05-03T06:17:37.652847Z"
    },
    "hidden": true,
    "hide_input": false,
    "scrolled": true
   },
   "outputs": [],
   "source": [
    "#state_holiday\n",
    "plt.subplot( 3, 2, 1);\n",
    "a = df4[df4['state_holiday'] != 'regular_day']\n",
    "sns.countplot( a['state_holiday']);\n",
    "\n",
    "plt.subplot( 3, 2, 2 );\n",
    "sns.kdeplot( df4[df4['state_holiday'] == 'public_holiday']['sales'], label='public_holiday', shade=True );\n",
    "sns.kdeplot( df4[df4['state_holiday'] == 'easter_holiday']['sales'], label='easter_holiday', shade=True );\n",
    "sns.kdeplot( df4[df4['state_holiday'] == 'christmas']['sales'], label='christmas', shade=True );\n",
    "\n",
    "#store_type\n",
    "plt.subplot( 3, 2, 3);\n",
    "sns.countplot( df4['store_type'] );\n",
    "\n",
    "plt.subplot( 3, 2, 4 );\n",
    "sns.kdeplot( df4[df4['store_type'] == 'a']['sales'], label='a', shade=True );\n",
    "sns.kdeplot( df4[df4['store_type'] == 'b']['sales'], label='b', shade=True );\n",
    "sns.kdeplot( df4[df4['store_type'] == 'c']['sales'], label='c', shade=True );\n",
    "sns.kdeplot( df4[df4['store_type'] == 'd']['sales'], label='d', shade=True );\n",
    "\n",
    "#assortment\n",
    "plt.subplot( 3, 2, 5);\n",
    "sns.countplot( df4['assortment'] );\n",
    "\n",
    "plt.subplot( 3, 2, 6 );\n",
    "sns.kdeplot( df4[df4['assortment'] == 'extended']['sales'], label='extended', shade=True );\n",
    "sns.kdeplot( df4[df4['assortment'] == 'basic']['sales'], label='basic', shade=True );\n",
    "sns.kdeplot( df4[df4['assortment'] == 'extra']['sales'], label='extra', shade=True );"
   ]
  },
  {
   "cell_type": "markdown",
   "metadata": {
    "heading_collapsed": true,
    "hidden": true
   },
   "source": [
    "## 4.2 Analise Bivariada"
   ]
  },
  {
   "cell_type": "markdown",
   "metadata": {
    "heading_collapsed": true,
    "hidden": true
   },
   "source": [
    "### H1.Lojas com maior sortimentos deveriam vender mais\n",
    "**Falsa** lojas com maior sortimento vendem menos."
   ]
  },
  {
   "cell_type": "code",
   "execution_count": null,
   "metadata": {
    "ExecuteTime": {
     "end_time": "2020-05-03T06:18:39.397391Z",
     "start_time": "2020-05-03T06:18:37.598435Z"
    },
    "hidden": true
   },
   "outputs": [],
   "source": [
    "aux1 = df4[['assortment', 'sales']].groupby('assortment').sum().reset_index()\n",
    "sns.barplot(x='assortment', y='sales', data=aux1);\n",
    "\n",
    "aux2 = df4[['year_week', 'assortment', 'sales']].groupby(['year_week', 'assortment']).sum().reset_index()\n",
    "aux2.pivot( index='year_week', columns='assortment', values='sales').plot();\n",
    "\n",
    "aux3 = aux2[aux2['assortment'] == 'extra']\n",
    "aux3.pivot( index='year_week', columns='assortment', values='sales' ).plot();"
   ]
  },
  {
   "cell_type": "markdown",
   "metadata": {
    "heading_collapsed": true,
    "hidden": true
   },
   "source": [
    "### H2. Lojas com competidores mais proximos deveriam vender menos\n",
    "**Falsa** Lojas com competidores mais proximos vendem mais."
   ]
  },
  {
   "cell_type": "code",
   "execution_count": null,
   "metadata": {
    "ExecuteTime": {
     "end_time": "2020-05-03T06:18:41.371858Z",
     "start_time": "2020-05-03T06:18:39.402546Z"
    },
    "hidden": true,
    "scrolled": true
   },
   "outputs": [],
   "source": [
    "aux1 = df4[['competition_distance', 'sales']].groupby('competition_distance').sum().reset_index()\n",
    "\n",
    "plt.subplot(1,3,1)\n",
    "sns.scatterplot(x = 'competition_distance', y='sales', data=aux1);\n",
    "\n",
    "plt.subplot(1,3,2)\n",
    "bins = list( np.arange(0,20000,1000))\n",
    "\n",
    "aux1['competition_distance_binned'] = pd.cut( aux1['competition_distance'], bins=bins)\n",
    "aux2 = aux1[['competition_distance_binned', 'sales']].groupby('competition_distance_binned').sum().reset_index()\n",
    "sns.barplot(x='competition_distance_binned', y='sales', data=aux2);\n",
    "plt.xticks(rotation=90);\n",
    "\n",
    "plt.subplot(1,3,3)\n",
    "x = sns.heatmap( aux1.corr( method='pearson'), annot=True);\n",
    "bottom, top = x.get_ylim()\n",
    "x.set_ylim(bottom+0.5, top-0.5);"
   ]
  },
  {
   "cell_type": "code",
   "execution_count": null,
   "metadata": {
    "ExecuteTime": {
     "end_time": "2020-05-03T06:18:41.388471Z",
     "start_time": "2020-05-03T06:18:41.374051Z"
    },
    "hidden": true
   },
   "outputs": [],
   "source": [
    "aux1.sample(4)"
   ]
  },
  {
   "cell_type": "markdown",
   "metadata": {
    "heading_collapsed": true,
    "hidden": true
   },
   "source": [
    "### H3. Lojas com competidores a mais tempo deveriam vender mais\n",
    "**Falsa** Lojas com competidores a mais tempo vendem menos"
   ]
  },
  {
   "cell_type": "code",
   "execution_count": null,
   "metadata": {
    "ExecuteTime": {
     "end_time": "2020-05-03T06:18:49.576343Z",
     "start_time": "2020-05-03T06:18:41.390979Z"
    },
    "hidden": true
   },
   "outputs": [],
   "source": [
    "plt.subplot(1,3,1)\n",
    "aux1 = df4[['competition_time_month', 'sales']].groupby('competition_time_month').sum().reset_index()\n",
    "aux2 = aux1[(aux1['competition_time_month'] < 120) & (aux1['competition_time_month'] != 0)]\n",
    "sns.barplot(x='competition_time_month', y='sales',data=aux2 );\n",
    "plt.xticks( rotation = 90);\n",
    "\n",
    "plt.subplot(1,3,2)\n",
    "sns.regplot(x='competition_time_month', y='sales',data=aux2 );\n",
    "\n",
    "plt.subplot(1,3,3)\n",
    "sns.heatmap( aux1.corr(method='pearson'), annot=True);\n",
    "\n"
   ]
  },
  {
   "cell_type": "markdown",
   "metadata": {
    "ExecuteTime": {
     "end_time": "2020-04-28T21:25:36.744622Z",
     "start_time": "2020-04-28T21:25:36.735234Z"
    },
    "heading_collapsed": true,
    "hidden": true
   },
   "source": [
    "### H4. Lojas com promocoes ativas por mais tempo deveriam vender mais.\n",
    "**Falsa** Lojas com promocoes ativas por mais tempo vendem menos, depois de um certo periodo de promocao"
   ]
  },
  {
   "cell_type": "code",
   "execution_count": null,
   "metadata": {
    "ExecuteTime": {
     "end_time": "2020-05-03T06:19:12.276911Z",
     "start_time": "2020-05-03T06:18:49.579242Z"
    },
    "hidden": true,
    "scrolled": false
   },
   "outputs": [],
   "source": [
    "aux1 = df4[['promotion_time_week', 'sales']].groupby('promotion_time_week').sum().reset_index()\n",
    "\n",
    "grid = GridSpec(2,3)\n",
    "\n",
    "plt.subplot(grid[0,0])\n",
    "aux2 = aux1[aux1['promotion_time_week'] > 0] # promo extended\n",
    "sns.barplot(x='promotion_time_week', y='sales', data=aux2);\n",
    "plt.xticks( rotation=90);\n",
    "\n",
    "plt.subplot(grid[0,1])\n",
    "sns.regplot(x='promotion_time_week', y='sales', data=aux2);\n",
    "\n",
    "plt.subplot(grid[1,0])\n",
    "aux3 = aux1[aux1['promotion_time_week'] < 0] # promo regular\n",
    "sns.barplot(x='promotion_time_week', y='sales', data=aux3);\n",
    "plt.xticks( rotation=90);\n",
    "\n",
    "plt.subplot(grid[1,1])\n",
    "sns.regplot(x='promotion_time_week', y='sales', data=aux3);\n",
    "\n",
    "plt.subplot(grid[:,2])\n",
    "sns.heatmap(aux1.corr('pearson'), annot=True);\n",
    "\n"
   ]
  },
  {
   "cell_type": "markdown",
   "metadata": {
    "heading_collapsed": true,
    "hidden": true
   },
   "source": [
    "### H5. Lojas com mais promocoes consecutivas deveriam vender mais. ON HOLD PARA PROXIMO CICLO DO CRISP\n",
    "\n"
   ]
  },
  {
   "cell_type": "code",
   "execution_count": null,
   "metadata": {
    "hidden": true
   },
   "outputs": [],
   "source": []
  },
  {
   "cell_type": "markdown",
   "metadata": {
    "heading_collapsed": true,
    "hidden": true
   },
   "source": [
    "### H6. Lojas com mais promocoes consecutivas deveriam vender mais.\n",
    "**Falsa** Lojas com mais promocoes consecutivas vendem menos"
   ]
  },
  {
   "cell_type": "code",
   "execution_count": null,
   "metadata": {
    "ExecuteTime": {
     "end_time": "2020-05-03T06:19:12.354192Z",
     "start_time": "2020-05-03T06:19:12.279862Z"
    },
    "hidden": true
   },
   "outputs": [],
   "source": [
    "df4[['promo', 'promo2', 'sales']].groupby(['promo', 'promo2']).sum().reset_index()"
   ]
  },
  {
   "cell_type": "code",
   "execution_count": null,
   "metadata": {
    "ExecuteTime": {
     "end_time": "2020-05-03T06:19:13.270242Z",
     "start_time": "2020-05-03T06:19:12.357160Z"
    },
    "hidden": true
   },
   "outputs": [],
   "source": [
    "aux1 = df4[(df4['promo'] == 1) & (df4['promo2'] == 1)][['year_week', 'sales']].groupby('year_week').sum().reset_index()\n",
    "ax = aux1.plot();\n",
    "\n",
    "aux2 = df4[(df4['promo'] == 1) & (df4['promo2'] == 0)][['year_week', 'sales']].groupby('year_week').sum().reset_index()\n",
    "aux2.plot(ax=ax)\n",
    "\n",
    "ax.legend(labels=['Tradicional & Estendida', ' Estendida']);"
   ]
  },
  {
   "cell_type": "markdown",
   "metadata": {
    "heading_collapsed": true,
    "hidden": true
   },
   "source": [
    "### H8. Lojas abertas durante o feriado de natal deveriam vender mais\n",
    "**Falsa** Lojas abertas durante o natal vendem menos"
   ]
  },
  {
   "cell_type": "code",
   "execution_count": null,
   "metadata": {
    "ExecuteTime": {
     "end_time": "2020-05-03T06:19:14.140614Z",
     "start_time": "2020-05-03T06:19:13.273572Z"
    },
    "hidden": true,
    "scrolled": true
   },
   "outputs": [],
   "source": [
    "aux = df4[df4['state_holiday'] != 'regular_day']\n",
    "\n",
    "plt.subplot(1,2,1)\n",
    "aux1 = aux[['state_holiday', 'sales']].groupby('state_holiday').sum().reset_index()\n",
    "sns.barplot(x='state_holiday', y='sales', data=aux1);\n",
    "\n",
    "plt.subplot(1,2,2)\n",
    "aux2 = aux[['year', 'state_holiday', 'sales']].groupby( ['year', 'state_holiday']).sum().reset_index()\n",
    "sns.barplot( x='year', y='sales', hue='state_holiday', data=aux2);"
   ]
  },
  {
   "cell_type": "markdown",
   "metadata": {
    "ExecuteTime": {
     "end_time": "2020-04-29T08:18:18.687116Z",
     "start_time": "2020-04-29T08:18:18.660884Z"
    },
    "heading_collapsed": true,
    "hidden": true
   },
   "source": [
    "### H9. Lojas deveriam vender mais no segundo semestre do ano\n",
    "**Falsa** lojas vendem menpos aos longos doa anos"
   ]
  },
  {
   "cell_type": "code",
   "execution_count": null,
   "metadata": {
    "ExecuteTime": {
     "end_time": "2020-05-03T06:19:15.781273Z",
     "start_time": "2020-05-03T06:19:14.143144Z"
    },
    "hidden": true
   },
   "outputs": [],
   "source": [
    "aux1 = df4[['year', 'sales']].groupby('year').sum().reset_index()\n",
    "\n",
    "plt.subplot(1,3,1)\n",
    "sns.barplot(x='year', y='sales', data=aux1);\n",
    "\n",
    "plt.subplot(1,3,2)\n",
    "sns.regplot(x='year', y='sales', data=aux1);\n",
    "\n",
    "plt.subplot(1,3,3)\n",
    "sns.heatmap(aux1.corr(method='pearson'), annot=True);"
   ]
  },
  {
   "cell_type": "markdown",
   "metadata": {
    "heading_collapsed": true,
    "hidden": true
   },
   "source": [
    "### H10. Lojas deveriam vender mais no segundo semestre do ano.\n",
    "**Falsa** Lojas vendem menos no segundo semestre do ano"
   ]
  },
  {
   "cell_type": "code",
   "execution_count": null,
   "metadata": {
    "ExecuteTime": {
     "end_time": "2020-05-03T06:19:17.464524Z",
     "start_time": "2020-05-03T06:19:15.783943Z"
    },
    "hidden": true
   },
   "outputs": [],
   "source": [
    "aux1 = df4[['month', 'sales']].groupby('month').sum().reset_index()\n",
    "\n",
    "plt.subplot(1,3,1)\n",
    "sns.barplot(x='month', y='sales', data=aux1);\n",
    "\n",
    "plt.subplot(1,3,2)\n",
    "sns.regplot(x='month', y='sales', data=aux1);\n",
    "\n",
    "plt.subplot(1,3,3)\n",
    "sns.heatmap(aux1.corr(method='pearson'), annot=True);"
   ]
  },
  {
   "cell_type": "markdown",
   "metadata": {
    "heading_collapsed": true,
    "hidden": true
   },
   "source": [
    "### H11. Lojas deveriam vender mais depois do dia 10 de cada mes.\n",
    "**True**  "
   ]
  },
  {
   "cell_type": "code",
   "execution_count": null,
   "metadata": {
    "ExecuteTime": {
     "end_time": "2020-05-03T06:19:19.953589Z",
     "start_time": "2020-05-03T06:19:17.467177Z"
    },
    "hidden": true
   },
   "outputs": [],
   "source": [
    "aux1 = df4[['day', 'sales']].groupby('day').sum().reset_index()\n",
    "\n",
    "plt.subplot(2,2,1)\n",
    "sns.barplot(x='day', y='sales', data=aux1);\n",
    "\n",
    "plt.subplot(2,2,2)\n",
    "sns.regplot(x='day', y='sales', data=aux1);\n",
    "\n",
    "plt.subplot(2,2,3)\n",
    "sns.heatmap(aux1.corr(method='pearson'), annot=True);\n",
    "\n",
    "\n",
    "aux1['before_after'] = aux1['day'].apply(lambda x: 'before_10-days' if x<= 10 else 'after_10_days')\n",
    "aux2 = aux1[['before_after', 'sales']].groupby('before_after').sum().reset_index()\n",
    "\n",
    "plt.subplot(2,2,4)\n",
    "sns.barplot(x='before_after', y='sales', data = aux2);"
   ]
  },
  {
   "cell_type": "markdown",
   "metadata": {
    "heading_collapsed": true,
    "hidden": true
   },
   "source": [
    "### H12. Lojas deveriam menos aos finais de semana.\n",
    "**True** Lojas vendem menos aos finais de semana"
   ]
  },
  {
   "cell_type": "code",
   "execution_count": null,
   "metadata": {
    "ExecuteTime": {
     "end_time": "2020-05-03T06:19:21.533378Z",
     "start_time": "2020-05-03T06:19:19.964286Z"
    },
    "hidden": true
   },
   "outputs": [],
   "source": [
    "aux1 = df4[['day_of_week', 'sales']].groupby('day_of_week').sum().reset_index()\n",
    "\n",
    "plt.subplot(1,3,1)\n",
    "sns.barplot(x='day_of_week', y='sales', data=aux1);\n",
    "\n",
    "plt.subplot(1,3,2)\n",
    "sns.regplot(x='day_of_week', y='sales', data=aux1);\n",
    "\n",
    "plt.subplot(1,3,3)\n",
    "sns.heatmap(aux1.corr(method='pearson'), annot=True);"
   ]
  },
  {
   "cell_type": "markdown",
   "metadata": {
    "heading_collapsed": true,
    "hidden": true
   },
   "source": [
    "### H13. Lojas com competidores mais proximos deveriam vende menos.\n",
    "**True**"
   ]
  },
  {
   "cell_type": "code",
   "execution_count": null,
   "metadata": {
    "ExecuteTime": {
     "end_time": "2020-05-03T06:19:22.548527Z",
     "start_time": "2020-05-03T06:19:21.536381Z"
    },
    "hidden": true,
    "scrolled": false
   },
   "outputs": [],
   "source": [
    "aux1 = df4[['school_holiday', 'sales']].groupby('school_holiday').sum().reset_index()\n",
    "\n",
    "plt.subplot(2,1,1)\n",
    "sns.barplot(x='school_holiday', y='sales', data=aux1);\n",
    "\n",
    "\n",
    "aux2 = df4[['month', 'school_holiday', 'sales']].groupby(['month', 'school_holiday']).sum().reset_index()\n",
    "\n",
    "plt.subplot(2,1,2)\n",
    "sns.barplot(x='month', y='sales', hue='school_holiday', data=aux2);\n",
    "\n",
    "# plt.subplot(1,3,3)\n",
    "# sns.heatmap(aux1.corr(method='pearson'), annot=True);"
   ]
  },
  {
   "cell_type": "code",
   "execution_count": null,
   "metadata": {
    "ExecuteTime": {
     "end_time": "2020-05-03T06:19:22.563877Z",
     "start_time": "2020-05-03T06:19:22.551324Z"
    },
    "hidden": true
   },
   "outputs": [],
   "source": [
    "from tabulate import tabulate"
   ]
  },
  {
   "cell_type": "code",
   "execution_count": null,
   "metadata": {
    "ExecuteTime": {
     "end_time": "2020-05-03T06:19:22.703463Z",
     "start_time": "2020-05-03T06:19:22.567302Z"
    },
    "hidden": true
   },
   "outputs": [],
   "source": [
    "tab = [['Hipotese', 'Conclusao', 'Relevancia'],\n",
    "       ['H1', 'Falsa', 'Baixa'],\n",
    "       ['H2', 'Falsa', 'Media'],\n",
    "       ['H3', 'Falsa', 'Media'],\n",
    "       ['H4', 'Falsa', 'Baixa'],\n",
    "       ['H5', '-', '-'],\n",
    "       ['H7', 'Falsa', 'Baixa'],\n",
    "       ['H8', 'Falsa', 'Media'],\n",
    "       ['H9', 'Falsa', 'Alta'],\n",
    "       ['H10', 'Falsa', 'Alta'],\n",
    "       ['H11', 'Verdadeira', 'Alta'],\n",
    "       ['H12', 'Verdadeira', 'Alta'],\n",
    "       ['H13', 'Verdadeira', 'Baixa'],      \n",
    "      ]\n",
    "print(tabulate(tab, headers='firstrow'))"
   ]
  },
  {
   "cell_type": "markdown",
   "metadata": {
    "heading_collapsed": true,
    "hidden": true
   },
   "source": [
    "## 4.3 Analise Multivariada"
   ]
  },
  {
   "cell_type": "markdown",
   "metadata": {
    "heading_collapsed": true,
    "hidden": true
   },
   "source": [
    "### 4.3.1 Numerical Atributes"
   ]
  },
  {
   "cell_type": "code",
   "execution_count": null,
   "metadata": {
    "ExecuteTime": {
     "end_time": "2020-05-03T06:19:25.020121Z",
     "start_time": "2020-05-03T06:19:22.707573Z"
    },
    "hidden": true,
    "scrolled": true
   },
   "outputs": [],
   "source": [
    "correlation = num_attributes.corr( method = 'pearson')\n",
    "sns.heatmap( correlation, annot=True);"
   ]
  },
  {
   "cell_type": "markdown",
   "metadata": {
    "heading_collapsed": true,
    "hidden": true
   },
   "source": [
    "### 4.3.2. Categorical Attributes"
   ]
  },
  {
   "cell_type": "code",
   "execution_count": null,
   "metadata": {
    "ExecuteTime": {
     "end_time": "2020-05-03T06:19:27.939580Z",
     "start_time": "2020-05-03T06:19:25.022394Z"
    },
    "hidden": true
   },
   "outputs": [],
   "source": [
    "#categorical data\n",
    "a = df4.select_dtypes(include='object')\n",
    "\n",
    "#calculate cramer v\n",
    "a1 = cramer_v(a['state_holiday'], a['state_holiday'])\n",
    "a2 = cramer_v(a['state_holiday'], a['store_type'])\n",
    "a3 = cramer_v(a['state_holiday'], a['assortment'])\n",
    "\n",
    "a4 = cramer_v(a['store_type'], a['state_holiday'])\n",
    "a5 = cramer_v(a['store_type'], a['store_type'])\n",
    "a6 = cramer_v(a['store_type'], a['assortment'])\n",
    "\n",
    "a7 = cramer_v(a['assortment'], a['state_holiday'])\n",
    "a8 = cramer_v(a['assortment'], a['store_type'])\n",
    "a9 = cramer_v(a['assortment'], a['assortment'])\n",
    "\n",
    "#final dataset\n",
    "d = pd.DataFrame({'state_holiday':[a1,a2,a3], \n",
    "                  'store_type':   [a4,a5,a6],\n",
    "                  'assortment':   [a7,a8,a9] })\n",
    "\n",
    "d = d.set_index(d.columns)\n",
    "sns.heatmap(d, annot=True);"
   ]
  },
  {
   "cell_type": "markdown",
   "metadata": {
    "heading_collapsed": true
   },
   "source": [
    "# 5.0. Data Preparation"
   ]
  },
  {
   "cell_type": "code",
   "execution_count": null,
   "metadata": {
    "ExecuteTime": {
     "end_time": "2020-05-03T06:19:28.051487Z",
     "start_time": "2020-05-03T06:19:27.942155Z"
    },
    "hidden": true
   },
   "outputs": [],
   "source": [
    "df5 = df4.copy()"
   ]
  },
  {
   "cell_type": "markdown",
   "metadata": {
    "heading_collapsed": true,
    "hidden": true
   },
   "source": [
    "## 5.1. Normalization"
   ]
  },
  {
   "cell_type": "markdown",
   "metadata": {
    "heading_collapsed": true,
    "hidden": true
   },
   "source": [
    "## 5.2. Rescaling"
   ]
  },
  {
   "cell_type": "code",
   "execution_count": null,
   "metadata": {
    "ExecuteTime": {
     "end_time": "2020-05-03T06:19:28.142044Z",
     "start_time": "2020-05-03T06:19:28.054771Z"
    },
    "hidden": true
   },
   "outputs": [],
   "source": [
    "a = df5.select_dtypes(include=['int64', 'float64'])"
   ]
  },
  {
   "cell_type": "code",
   "execution_count": null,
   "metadata": {
    "ExecuteTime": {
     "end_time": "2020-05-03T06:19:29.123754Z",
     "start_time": "2020-05-03T06:19:28.147131Z"
    },
    "hidden": true
   },
   "outputs": [],
   "source": [
    "sns.boxplot( df5['competition_distance']);"
   ]
  },
  {
   "cell_type": "code",
   "execution_count": null,
   "metadata": {
    "ExecuteTime": {
     "end_time": "2020-05-03T06:19:29.390233Z",
     "start_time": "2020-05-03T06:19:29.126505Z"
    },
    "hidden": true
   },
   "outputs": [],
   "source": [
    "rs = RobustScaler()\n",
    "mms = MinMaxScaler()\n",
    "\n",
    "#competition_distance - \n",
    "df5['competition_distance'] = rs.fit_transform( df5[['competition_distance']].values) \n",
    "\n",
    "#competition_time_month\n",
    "df5['competition_time_month'] = rs.fit_transform( df5[['competition_time_month']].values) \n",
    "\n",
    "#promotion_time_week\n",
    "df5['promotion_time_week'] = mms.fit_transform( df5[['promotion_time_week']].values) \n",
    "\n",
    "#year - linear growth , not come back in time\n",
    "df5['year'] = mms.fit_transform( df5[['year']].values) "
   ]
  },
  {
   "cell_type": "markdown",
   "metadata": {
    "heading_collapsed": true,
    "hidden": true
   },
   "source": [
    "## 5.3. Transformation"
   ]
  },
  {
   "cell_type": "markdown",
   "metadata": {
    "ExecuteTime": {
     "end_time": "2020-04-30T07:36:05.715206Z",
     "start_time": "2020-04-30T07:36:05.415666Z"
    },
    "heading_collapsed": true,
    "hidden": true
   },
   "source": [
    "### 5.3.1. Encoding"
   ]
  },
  {
   "cell_type": "code",
   "execution_count": null,
   "metadata": {
    "ExecuteTime": {
     "end_time": "2020-05-03T06:19:30.397534Z",
     "start_time": "2020-05-03T06:19:29.396118Z"
    },
    "hidden": true
   },
   "outputs": [],
   "source": [
    "#state_holiday - one hot encoding\n",
    "df5 = pd.get_dummies(df5, prefix=['state_holiday'], columns=['state_holiday'])\n",
    "\n",
    "#store_type - Label enconding\n",
    "le = LabelEncoder()\n",
    "df5['store_type'] = le.fit_transform(df5['store_type'])\n",
    "\n",
    "#assortment - Ordinal Encoding\n",
    "assortment_dict = {'basic': 1, 'extra': 2, 'extended': 3}\n",
    "df5['assortment'] = df5['assortment'].map( assortment_dict )\n"
   ]
  },
  {
   "cell_type": "code",
   "execution_count": null,
   "metadata": {
    "ExecuteTime": {
     "end_time": "2020-05-03T06:19:30.454120Z",
     "start_time": "2020-05-03T06:19:30.399872Z"
    },
    "hidden": true
   },
   "outputs": [],
   "source": [
    "df5.head()"
   ]
  },
  {
   "cell_type": "markdown",
   "metadata": {
    "ExecuteTime": {
     "end_time": "2020-04-30T07:25:18.425191Z",
     "start_time": "2020-04-30T07:25:18.317502Z"
    },
    "hidden": true
   },
   "source": [
    "### 5.3.2 Response Variable Transformation"
   ]
  },
  {
   "cell_type": "code",
   "execution_count": null,
   "metadata": {
    "ExecuteTime": {
     "end_time": "2020-05-03T06:19:30.525001Z",
     "start_time": "2020-05-03T06:19:30.460082Z"
    },
    "hidden": true
   },
   "outputs": [],
   "source": [
    "df5['sales'] = np.log1p(df5['sales'])"
   ]
  },
  {
   "cell_type": "markdown",
   "metadata": {
    "hidden": true
   },
   "source": [
    "### 5.3.3. Nature Transformation"
   ]
  },
  {
   "cell_type": "code",
   "execution_count": null,
   "metadata": {
    "ExecuteTime": {
     "end_time": "2020-05-03T06:19:57.442673Z",
     "start_time": "2020-05-03T06:19:30.530569Z"
    },
    "hidden": true
   },
   "outputs": [],
   "source": [
    "#month- sin and cos natural\n",
    "df5['month_sin'] = df5['month'].apply(lambda x: sin(x*(2. * np.pi/12)))\n",
    "df5['month_cos'] = df5['month'].apply(lambda x: cos(x*(2. * np.pi/12)))\n",
    "\n",
    "#day- natureza ciclica\n",
    "df5['day_sin'] = df5['day'].apply(lambda x: sin(x*(2. * np.pi/30)))\n",
    "df5['day_cos'] = df5['day'].apply(lambda x: cos(x*(2. * np.pi/30)))\n",
    "\n",
    "#week_of_year- natureza ciclica\n",
    "df5['week_of_year_sin'] = df5['week_of_year'].apply(lambda x: sin(x*(2. * np.pi/52)))\n",
    "df5['week_of_year_cos'] = df5['week_of_year'].apply(lambda x: cos(x*(2. * np.pi/52)))\n",
    "\n",
    "#day_of_week- natureza ciclica\n",
    "df5['day_of_week_sin'] = df5['day_of_week'].apply(lambda x: sin(x*(2. * np.pi/7)))\n",
    "df5['day_of_week_cos'] = df5['day_of_week'].apply(lambda x: cos(x*(2. * np.pi/7)))"
   ]
  },
  {
   "cell_type": "code",
   "execution_count": null,
   "metadata": {
    "ExecuteTime": {
     "end_time": "2020-05-03T06:19:57.511295Z",
     "start_time": "2020-05-03T06:19:57.447378Z"
    },
    "hidden": true
   },
   "outputs": [],
   "source": [
    "df5.head()"
   ]
  },
  {
   "cell_type": "markdown",
   "metadata": {},
   "source": [
    "# 6.0. FEATURE SELECTION - BORUTA"
   ]
  },
  {
   "cell_type": "code",
   "execution_count": null,
   "metadata": {
    "ExecuteTime": {
     "end_time": "2020-05-03T06:19:57.920706Z",
     "start_time": "2020-05-03T06:19:57.514958Z"
    }
   },
   "outputs": [],
   "source": [
    "df6 = df5.copy()"
   ]
  },
  {
   "cell_type": "code",
   "execution_count": null,
   "metadata": {
    "ExecuteTime": {
     "end_time": "2020-05-03T06:19:57.983638Z",
     "start_time": "2020-05-03T06:19:57.924649Z"
    }
   },
   "outputs": [],
   "source": [
    "df6.head()"
   ]
  },
  {
   "cell_type": "markdown",
   "metadata": {},
   "source": [
    "## 6.1. Split Dataframe into training and dataset"
   ]
  },
  {
   "cell_type": "code",
   "execution_count": null,
   "metadata": {
    "ExecuteTime": {
     "end_time": "2020-05-03T06:19:58.230166Z",
     "start_time": "2020-05-03T06:19:57.987094Z"
    }
   },
   "outputs": [],
   "source": [
    "cols_drop = ['week_of_year', 'day', 'month', 'day_of_week', 'promotion_since', 'competition_since', 'year_week']\n",
    "df6 = df6.drop( cols_drop, axis=1) # axis = 1 along line to delete whole column"
   ]
  },
  {
   "cell_type": "code",
   "execution_count": null,
   "metadata": {
    "ExecuteTime": {
     "end_time": "2020-05-03T06:19:58.298058Z",
     "start_time": "2020-05-03T06:19:58.234769Z"
    }
   },
   "outputs": [],
   "source": [
    "df6[['store', 'date']].groupby( 'store').max().reset_index()['date'][0] - datetime.timedelta(days =7*6)"
   ]
  },
  {
   "cell_type": "code",
   "execution_count": null,
   "metadata": {
    "ExecuteTime": {
     "end_time": "2020-05-03T06:19:58.634266Z",
     "start_time": "2020-05-03T06:19:58.301678Z"
    }
   },
   "outputs": [],
   "source": [
    "#training dataset\n",
    "X_train = df6[df6['date'] < '2015-06-19']\n",
    "y_train = X_train['sales']\n",
    "\n",
    "#test dataset\n",
    "X_test = df6[df6['date'] >= '2015-06-19']\n",
    "x_test = X_test['sales']\n",
    "\n",
    "print('Training min Date:{}'.format(X_train['date'].min() ) )\n",
    "print('Training max Date:{}'.format(X_train['date'].max() ) )\n",
    "\n",
    "print('\\nTest min Date:{}'.format(X_test['date'].min() ) )\n",
    "print('Test max Date:{}'.format(X_test['date'].max() ) )"
   ]
  },
  {
   "cell_type": "markdown",
   "metadata": {},
   "source": [
    "## 6.2. Boruta Feature Selector"
   ]
  },
  {
   "cell_type": "code",
   "execution_count": null,
   "metadata": {
    "ExecuteTime": {
     "end_time": "2020-05-03T06:20:16.100100Z",
     "start_time": "2020-05-03T06:20:15.849362Z"
    }
   },
   "outputs": [],
   "source": [
    "#Training and test dataset for boruta\n",
    "X_train_n = X_train.drop( ['date', 'sales'], axis=1).values\n",
    "y_train_n = y_train.values.ravel()"
   ]
  },
  {
   "cell_type": "code",
   "execution_count": null,
   "metadata": {
    "ExecuteTime": {
     "end_time": "2020-05-03T06:20:19.616787Z",
     "start_time": "2020-05-03T06:20:19.613581Z"
    }
   },
   "outputs": [],
   "source": [
    "#define RandomForestRegressor\n",
    "rf = RandomForestRegressor( n_jobs=-1)"
   ]
  },
  {
   "cell_type": "code",
   "execution_count": null,
   "metadata": {
    "ExecuteTime": {
     "start_time": "2020-05-03T06:20:38.223Z"
    }
   },
   "outputs": [],
   "source": [
    "#Define Boruta\n",
    "boruta = BorutaPy( rf, n_estimators='auto', verbose=2, random_state=42 ).fit( X_train_n, y_train_n )"
   ]
  },
  {
   "cell_type": "markdown",
   "metadata": {},
   "source": [
    "### 6.2.1 Best features from boruta"
   ]
  },
  {
   "cell_type": "code",
   "execution_count": null,
   "metadata": {
    "ExecuteTime": {
     "start_time": "2020-05-03T05:29:33.731Z"
    }
   },
   "outputs": [],
   "source": [
    "cols_selected = boruta.support_.tolist()\n",
    "\n",
    "#Best features\n",
    "X_train_fs = X_train.drop( ['date', 'sales'], axis=1)\n",
    "cols_selected_boruta = X_train_fs.iloc[:,cols_selected].columns.tolist()\n",
    "\n",
    "#Not_selected boruta\n",
    "cols_not_selected_boruta = np.setdiff1d(X_train_fs.columns, cols_selected_boruta)"
   ]
  },
  {
   "cell_type": "code",
   "execution_count": null,
   "metadata": {},
   "outputs": [],
   "source": []
  }
 ],
 "metadata": {
  "kernelspec": {
   "display_name": "Python 3",
   "language": "python",
   "name": "python3"
  },
  "language_info": {
   "codemirror_mode": {
    "name": "ipython",
    "version": 3
   },
   "file_extension": ".py",
   "mimetype": "text/x-python",
   "name": "python",
   "nbconvert_exporter": "python",
   "pygments_lexer": "ipython3",
   "version": "3.6.9"
  }
 },
 "nbformat": 4,
 "nbformat_minor": 2
}
